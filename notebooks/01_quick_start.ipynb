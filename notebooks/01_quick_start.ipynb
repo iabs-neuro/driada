{
 "cells": [
  {
   "cell_type": "markdown",
   "metadata": {},
   "source": [
    "# DRIADA INTENSE: Quick Start Tutorial (5 minutes)\n",
    "\n",
    "Welcome to DRIADA's INTENSE module! This notebook will get you analyzing neuronal selectivity in just 5 minutes.\n",
    "\n",
    "## What is INTENSE?\n",
    "\n",
    "INTENSE (Information-Theoretic Evaluation of Neuronal Selectivity) helps you discover which neurons encode specific behavioral or environmental variables using mutual information analysis.\n",
    "\n",
    "Key advantages:\n",
    "- Detects both linear AND nonlinear relationships\n",
    "- Rigorous statistical testing with multiple comparison correction\n",
    "- Handles temporal delays between neural activity and behavior\n",
    "- Works with both discrete (e.g., trial type) and continuous (e.g., position) variables"
   ]
  },
  {
   "cell_type": "markdown",
   "metadata": {},
   "source": [
    "## Setup\n",
    "\n",
    "First, let's import DRIADA and set up our environment:"
   ]
  },
  {
   "cell_type": "code",
   "execution_count": null,
   "metadata": {},
   "outputs": [],
   "source": [
    "# Add DRIADA to Python path\n",
    "import sys\n",
    "import os\n",
    "sys.path.insert(0, os.path.join(os.path.dirname(os.getcwd()), 'src'))\n",
    "\n",
    "# Import required libraries\n",
    "import driada\n",
    "import numpy as np\n",
    "import matplotlib.pyplot as plt\n",
    "\n",
    "# Set random seed for reproducibility\n",
    "np.random.seed(42)\n",
    "\n",
    "print(f\"DRIADA version: {driada.__version__}\")\n",
    "print(\"Setup complete! ✓\")"
   ]
  },
  {
   "cell_type": "markdown",
   "metadata": {},
   "source": [
    "## Step 1: Generate Synthetic Neural Data\n",
    "\n",
    "For this demo, we'll use DRIADA's synthetic data generator to create an experiment with:\n",
    "- 20 neurons (some will be selective to specific features)\n",
    "- 2 discrete features (like trial type: left/right)\n",
    "- 2 continuous features (like x,y position)\n",
    "- 5 minutes of recording"
   ]
  },
  {
   "cell_type": "code",
   "execution_count": null,
   "metadata": {},
   "outputs": [],
   "source": [
    "# Generate synthetic experiment\n",
    "exp = driada.generate_synthetic_exp(\n",
    "    n_dfeats=2,      # discrete features (e.g., trial type)\n",
    "    n_cfeats=2,      # continuous features (e.g., x, y position)  \n",
    "    nneurons=20,     # number of neurons\n",
    "    duration=300,    # 5 minutes recording\n",
    "    seed=42          # reproducible results\n",
    ")\n",
    "\n",
    "print(f\"Created experiment with:\")\n",
    "print(f\"  • {exp.n_cells} neurons\")\n",
    "print(f\"  • {exp.n_frames} timepoints\")\n",
    "print(f\"  • Features: {list(exp.dynamic_features.keys())}\")"
   ]
  },
  {
   "cell_type": "markdown",
   "metadata": {},
   "source": [
    "## Step 2: Run INTENSE Analysis\n",
    "\n",
    "Now let's discover which neurons are selective to which features using mutual information:"
   ]
  },
  {
   "cell_type": "code",
   "execution_count": null,
   "metadata": {},
   "outputs": [],
   "source": [
    "# Analyze neuronal selectivity\n",
    "stats, significance, info, results = driada.compute_cell_feat_significance(\n",
    "    exp,\n",
    "    mode='two_stage',         # efficient two-stage testing\n",
    "    n_shuffles_stage1=50,     # preliminary screening\n",
    "    n_shuffles_stage2=1000,   # rigorous validation\n",
    "    verbose=True              # show progress\n",
    ")\n",
    "\n",
    "print(\"\\nAnalysis complete! ✓\")"
   ]
  },
  {
   "cell_type": "markdown",
   "metadata": {},
   "source": [
    "## Step 3: Extract and Visualize Results\n",
    "\n",
    "Let's see what INTENSE discovered:"
   ]
  },
  {
   "cell_type": "code",
   "execution_count": null,
   "metadata": {},
   "outputs": [],
   "source": [
    "# Get significant neuron-feature pairs\n",
    "significant_neurons = exp.get_significant_neurons()\n",
    "total_pairs = sum(len(features) for features in significant_neurons.values())\n",
    "\n",
    "print(f\"Found {len(significant_neurons)} neurons with significant selectivity\")\n",
    "print(f\"Total significant neuron-feature pairs: {total_pairs}\\n\")\n",
    "\n",
    "# Show detailed results for first 3 neurons\n",
    "if significant_neurons:\n",
    "    print(\"Significant relationships:\")\n",
    "    for i, (cell_id, features) in enumerate(significant_neurons.items()):\n",
    "        if i >= 3:  # Show first 3\n",
    "            break\n",
    "        for feat_name in features:\n",
    "            pair_stats = exp.get_neuron_feature_pair_stats(cell_id, feat_name)\n",
    "            \n",
    "            print(f\"\\nNeuron {cell_id} ↔ Feature '{feat_name}':\")\n",
    "            print(f\"  • Mutual Information: {pair_stats['pre_rval']:.4f}\")\n",
    "            if 'pval' in pair_stats and pair_stats['pval'] is not None:\n",
    "                print(f\"  • P-value: {pair_stats['pval']:.2e}\")\n",
    "            print(f\"  • Optimal delay: {pair_stats.get('shift_used', 0):.2f}s\")\n",
    "else:\n",
    "    print(\"No significant relationships found in this synthetic data.\")"
   ]
  },
  {
   "cell_type": "markdown",
   "metadata": {},
   "source": [
    "## Step 4: Visualize a Neuron-Feature Relationship\n",
    "\n",
    "Let's visualize how a selective neuron responds to its preferred feature:"
   ]
  },
  {
   "cell_type": "code",
   "execution_count": null,
   "metadata": {},
   "outputs": [],
   "source": [
    "# Visualize the first significant relationship\n",
    "if significant_neurons:\n",
    "    # Get first significant pair\n",
    "    cell_id = list(significant_neurons.keys())[0]\n",
    "    feat_name = significant_neurons[cell_id][0]\n",
    "    \n",
    "    # Create visualization\n",
    "    fig, ax = plt.subplots(figsize=(10, 6))\n",
    "    driada.intense.plot_neuron_feature_pair(exp, cell_id, feat_name, ax=ax)\n",
    "    plt.title(f\"Neuron {cell_id} selectivity to {feat_name}\")\n",
    "    plt.tight_layout()\n",
    "    plt.show()\n",
    "else:\n",
    "    print(\"No significant relationships to visualize.\")"
   ]
  },
  {
   "cell_type": "markdown",
   "metadata": {},
   "source": [
    "## Understanding the Results\n",
    "\n",
    "### What do these values mean?\n",
    "\n",
    "- **Mutual Information (MI)**: Measures how much information the neural activity provides about the behavioral variable\n",
    "  - 0 = no relationship\n",
    "  - Higher values = stronger relationship\n",
    "  - Captures both linear and nonlinear dependencies\n",
    "\n",
    "- **P-value**: Statistical significance after correcting for multiple comparisons\n",
    "  - < 0.01 = highly significant\n",
    "  - Uses rigorous shuffling-based null distribution\n",
    "\n",
    "- **Optimal delay**: Time shift that maximizes the relationship\n",
    "  - Positive = neural activity follows behavior\n",
    "  - Negative = neural activity precedes behavior\n",
    "  - Accounts for calcium indicator dynamics (~1-2s delay)\n",
    "\n",
    "### The Two-Stage Testing Approach\n",
    "\n",
    "INTENSE uses an efficient two-stage procedure:\n",
    "1. **Stage 1**: Quick screening with 50-100 shuffles to reject obviously non-significant pairs\n",
    "2. **Stage 2**: Rigorous testing with 1000+ shuffles for candidates that pass Stage 1\n",
    "\n",
    "This saves ~100x computation time while maintaining statistical rigor!"
   ]
  },
  {
   "cell_type": "markdown",
   "metadata": {},
   "source": [
    "## Next Steps\n",
    "\n",
    "Congratulations! You've just completed your first INTENSE analysis. 🎉\n",
    "\n",
    "To learn more:\n",
    "1. **Notebook 02**: Understanding INTENSE results in depth\n",
    "2. **Notebook 03**: Working with your own neural data\n",
    "3. **Examples folder**: See advanced features like mixed selectivity analysis\n",
    "\n",
    "### Using Your Own Data\n",
    "\n",
    "Here's a template for analyzing your data:\n",
    "\n",
    "```python\n",
    "# Your neural recordings\n",
    "calcium_traces = np.array(...)  # shape: (n_neurons, n_timepoints)\n",
    "\n",
    "# Your behavioral variables\n",
    "dynamic_features = {\n",
    "    'position_x': np.array(...),      # continuous\n",
    "    'position_y': np.array(...),      # continuous\n",
    "    'trial_type': np.array(...),      # discrete\n",
    "    'reward': np.array(...)           # discrete\n",
    "}\n",
    "\n",
    "# Create experiment\n",
    "exp = driada.Experiment(\n",
    "    signature='MyExperiment',\n",
    "    calcium=calcium_traces,\n",
    "    dynamic_features=dynamic_features,\n",
    "    static_features={'fps': 20.0}\n",
    ")\n",
    "\n",
    "# Run INTENSE\n",
    "results = driada.compute_cell_feat_significance(exp)\n",
    "```\n",
    "\n",
    "Happy analyzing! 🧠✨"
   ]
  }
 ],
 "metadata": {
  "kernelspec": {
   "display_name": "Python 3",
   "language": "python",
   "name": "python3"
  },
  "language_info": {
   "codemirror_mode": {
    "name": "ipython",
    "version": 3
   },
   "file_extension": ".py",
   "mimetype": "text/x-python",
   "name": "python",
   "nbconvert_exporter": "python",
   "pygments_lexer": "ipython3",
   "version": "3.8.0"
  }
 },
 "nbformat": 4,
 "nbformat_minor": 4
}